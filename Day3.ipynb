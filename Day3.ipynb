{
 "cells": [
  {
   "cell_type": "markdown",
   "id": "3ac7aefb",
   "metadata": {},
   "source": [
    "# PYTHON DAY-3"
   ]
  },
  {
   "cell_type": "code",
   "execution_count": 2,
   "id": "31f88405",
   "metadata": {},
   "outputs": [
    {
     "data": {
      "text/plain": [
       "False"
      ]
     },
     "execution_count": 2,
     "metadata": {},
     "output_type": "execute_result"
    }
   ],
   "source": [
    "# AND OR operation\n",
    "(6>7) and (2<3)"
   ]
  },
  {
   "cell_type": "code",
   "execution_count": 3,
   "id": "1c641537",
   "metadata": {},
   "outputs": [
    {
     "data": {
      "text/plain": [
       "True"
      ]
     },
     "execution_count": 3,
     "metadata": {},
     "output_type": "execute_result"
    }
   ],
   "source": [
    "(15>=14) and (9<=10)"
   ]
  },
  {
   "cell_type": "code",
   "execution_count": 4,
   "id": "9b1bad24",
   "metadata": {},
   "outputs": [
    {
     "data": {
      "text/plain": [
       "False"
      ]
     },
     "execution_count": 4,
     "metadata": {},
     "output_type": "execute_result"
    }
   ],
   "source": [
    "(89>100) or (234>=235)"
   ]
  },
  {
   "cell_type": "code",
   "execution_count": 5,
   "id": "80f5001b",
   "metadata": {},
   "outputs": [
    {
     "data": {
      "text/plain": [
       "True"
      ]
     },
     "execution_count": 5,
     "metadata": {},
     "output_type": "execute_result"
    }
   ],
   "source": [
    "(1000<999) or (10000>=900)"
   ]
  },
  {
   "cell_type": "code",
   "execution_count": 16,
   "id": "da378ef8",
   "metadata": {},
   "outputs": [
    {
     "data": {
      "text/plain": [
       "False"
      ]
     },
     "execution_count": 16,
     "metadata": {},
     "output_type": "execute_result"
    }
   ],
   "source": [
    "A=40;B=50;C=60\n",
    "((A>B) and (B<C)) and ((B>A) or (C<=B))"
   ]
  },
  {
   "cell_type": "code",
   "execution_count": 17,
   "id": "c133f23e",
   "metadata": {},
   "outputs": [
    {
     "data": {
      "text/plain": [
       "True"
      ]
     },
     "execution_count": 17,
     "metadata": {},
     "output_type": "execute_result"
    }
   ],
   "source": [
    "((20>15) or (33<22)) or ((2>10) and (2<=10))"
   ]
  },
  {
   "cell_type": "code",
   "execution_count": 31,
   "id": "921c1f41",
   "metadata": {},
   "outputs": [
    {
     "name": "stdout",
     "output_type": "stream",
     "text": [
      "[10, 20, 30, 40, 50, 60]\n"
     ]
    }
   ],
   "source": [
    "#append\n",
    "A=[10,20,30,40,50]\n",
    "A.append(60)\n",
    "print(A)"
   ]
  },
  {
   "cell_type": "code",
   "execution_count": 22,
   "id": "607d49d7",
   "metadata": {},
   "outputs": [
    {
     "name": "stdout",
     "output_type": "stream",
     "text": [
      "[1, 3, 2, 5, 7, 9]\n"
     ]
    }
   ],
   "source": [
    "#insert\n",
    "B=[1,3,5,7,9]\n",
    "B.insert(2,2)\n",
    "print(B)"
   ]
  },
  {
   "cell_type": "code",
   "execution_count": 26,
   "id": "6970a160",
   "metadata": {},
   "outputs": [
    {
     "name": "stdout",
     "output_type": "stream",
     "text": [
      "[30, 20, 10, 2, 0]\n"
     ]
    }
   ],
   "source": [
    "X=[30,20,10,0]\n",
    "X.insert(3,2)\n",
    "print(X)"
   ]
  },
  {
   "cell_type": "code",
   "execution_count": 29,
   "id": "37a3c988",
   "metadata": {},
   "outputs": [
    {
     "name": "stdout",
     "output_type": "stream",
     "text": [
      "[8, 7, 6, 5, 4, 3, 2, 1]\n"
     ]
    }
   ],
   "source": [
    "#remove\n",
    "Y=[9,8,7,6,5,4,3,2,1]\n",
    "Y.remove(9)\n",
    "print(Y)"
   ]
  },
  {
   "cell_type": "code",
   "execution_count": 30,
   "id": "039b9f88",
   "metadata": {},
   "outputs": [
    {
     "data": {
      "text/plain": [
       "4"
      ]
     },
     "execution_count": 30,
     "metadata": {},
     "output_type": "execute_result"
    }
   ],
   "source": [
    "#count\n",
    "Z=[1,2,2,3,3,3,4,4,4,4]\n",
    "Z.count(4)"
   ]
  },
  {
   "cell_type": "code",
   "execution_count": 36,
   "id": "018581fe",
   "metadata": {},
   "outputs": [
    {
     "name": "stdout",
     "output_type": "stream",
     "text": [
      "[2, 4, 6, 8, 10, 1, 3]\n"
     ]
    }
   ],
   "source": [
    "#extend\n",
    "P=[2,4,6,8,10]\n",
    "P.extend([1,3])\n",
    "print(P)"
   ]
  },
  {
   "cell_type": "code",
   "execution_count": 37,
   "id": "c1cd98b9",
   "metadata": {},
   "outputs": [
    {
     "name": "stdout",
     "output_type": "stream",
     "text": [
      "[3, 1, 10, 8, 6, 4, 2]\n"
     ]
    }
   ],
   "source": [
    "#reverse\n",
    "P.reverse()\n",
    "print(P)"
   ]
  },
  {
   "cell_type": "code",
   "execution_count": 38,
   "id": "00690b60",
   "metadata": {},
   "outputs": [
    {
     "name": "stdout",
     "output_type": "stream",
     "text": [
      "[11, 22, 33, 44, 55, 66]\n"
     ]
    }
   ],
   "source": [
    "#sort\n",
    "Q=[11,33,66,44,22,55]\n",
    "Q.sort()\n",
    "print(Q)"
   ]
  },
  {
   "cell_type": "code",
   "execution_count": 40,
   "id": "3e4d3f43",
   "metadata": {},
   "outputs": [
    {
     "name": "stdout",
     "output_type": "stream",
     "text": [
      "['Today', 'is', 'Python', 'Day3', 'class']\n"
     ]
    }
   ],
   "source": [
    "#splitting\n",
    "A=\"Today is Python Day3 class\"\n",
    "B=A.split()\n",
    "print(B)"
   ]
  },
  {
   "cell_type": "code",
   "execution_count": 45,
   "id": "6ad0cfdf",
   "metadata": {},
   "outputs": [
    {
     "name": "stdout",
     "output_type": "stream",
     "text": [
      "[1, 2, 3, 4, [5, 6]]\n"
     ]
    }
   ],
   "source": [
    "#sclicing\n",
    "L=[1,2,3,4,[5,6],7,8]\n",
    "print(L[0:5])\n",
    "      "
   ]
  },
  {
   "cell_type": "code",
   "execution_count": 51,
   "id": "8f0ba9f6",
   "metadata": {},
   "outputs": [
    {
     "name": "stdout",
     "output_type": "stream",
     "text": [
      "[2, 4, 6, 8, 10]\n"
     ]
    }
   ],
   "source": [
    "#step size[start:end:step size]\n",
    "A=[1,2,3,4,5,6,7,8,9,10];\n",
    "print(A[1:10:2]);\n"
   ]
  },
  {
   "cell_type": "code",
   "execution_count": 59,
   "id": "af478f10",
   "metadata": {},
   "outputs": [
    {
     "name": "stdout",
     "output_type": "stream",
     "text": [
      "[0, 2, 4, 6, 8, 10, 12, 14]\n"
     ]
    }
   ],
   "source": [
    "even=[];\n",
    "for i in range(15):\n",
    "    if(i%2==0):\n",
    "        even.append(i);\n",
    "print(even);"
   ]
  },
  {
   "cell_type": "code",
   "execution_count": 61,
   "id": "a46fb72f",
   "metadata": {},
   "outputs": [
    {
     "name": "stdout",
     "output_type": "stream",
     "text": [
      "[1, 3, 5, 7, 9, 11, 13, 15, 17, 19, 21, 23]\n"
     ]
    }
   ],
   "source": [
    "odd=[];\n",
    "for i in range(25):\n",
    "    if(i%2==1):\n",
    "        odd.append(i);\n",
    "print(odd);"
   ]
  },
  {
   "cell_type": "code",
   "execution_count": 85,
   "id": "6306991e",
   "metadata": {},
   "outputs": [
    {
     "name": "stdout",
     "output_type": "stream",
     "text": [
      "[(0, 0), (1, 1), (2, 4), (3, 9), (4, 16), (5, 25), (6, 36), (7, 49), (8, 64), (9, 81)]\n"
     ]
    }
   ],
   "source": [
    "squrt=[(i,i**2) for i in range(10)]\n",
    "print(squrt);"
   ]
  },
  {
   "cell_type": "code",
   "execution_count": 87,
   "id": "e164e5ef",
   "metadata": {},
   "outputs": [
    {
     "name": "stdout",
     "output_type": "stream",
     "text": [
      "0\n",
      "1\n",
      "2\n",
      "3\n",
      "4\n",
      "5\n",
      "6\n"
     ]
    }
   ],
   "source": [
    "for j in range(7):\n",
    "    print(j);\n",
    "    "
   ]
  }
 ],
 "metadata": {
  "kernelspec": {
   "display_name": "Python 3 (ipykernel)",
   "language": "python",
   "name": "python3"
  },
  "language_info": {
   "codemirror_mode": {
    "name": "ipython",
    "version": 3
   },
   "file_extension": ".py",
   "mimetype": "text/x-python",
   "name": "python",
   "nbconvert_exporter": "python",
   "pygments_lexer": "ipython3",
   "version": "3.9.12"
  }
 },
 "nbformat": 4,
 "nbformat_minor": 5
}
