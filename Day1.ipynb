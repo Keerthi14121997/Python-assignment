{
 "cells": [
  {
   "cell_type": "markdown",
   "id": "bb800756",
   "metadata": {},
   "source": [
    "# PYTHON DAY-1\n"
   ]
  },
  {
   "cell_type": "code",
   "execution_count": 1,
   "id": "f689dbb4",
   "metadata": {},
   "outputs": [
    {
     "data": {
      "text/plain": [
       "9.666666666666668"
      ]
     },
     "execution_count": 1,
     "metadata": {},
     "output_type": "execute_result"
    }
   ],
   "source": [
    "# Number operations\n",
    "7+8-16*2/6"
   ]
  },
  {
   "cell_type": "code",
   "execution_count": 5,
   "id": "1900189e",
   "metadata": {},
   "outputs": [
    {
     "data": {
      "text/plain": [
       "-7.2"
      ]
     },
     "execution_count": 5,
     "metadata": {},
     "output_type": "execute_result"
    }
   ],
   "source": [
    "5%2.5-9+12*0.3/2"
   ]
  },
  {
   "cell_type": "code",
   "execution_count": 4,
   "id": "4fc16000",
   "metadata": {},
   "outputs": [
    {
     "data": {
      "text/plain": [
       "4.084615384615386"
      ]
     },
     "execution_count": 4,
     "metadata": {},
     "output_type": "execute_result"
    }
   ],
   "source": [
    "9/6.5-2.05*6+15"
   ]
  },
  {
   "cell_type": "code",
   "execution_count": 2,
   "id": "9a660182",
   "metadata": {},
   "outputs": [
    {
     "data": {
      "text/plain": [
       "1296"
      ]
     },
     "execution_count": 2,
     "metadata": {},
     "output_type": "execute_result"
    }
   ],
   "source": [
    "# Power Operation\n",
    "6**4"
   ]
  },
  {
   "cell_type": "code",
   "execution_count": 6,
   "id": "56352d5c",
   "metadata": {},
   "outputs": [
    {
     "data": {
      "text/plain": [
       "5159780352"
      ]
     },
     "execution_count": 6,
     "metadata": {},
     "output_type": "execute_result"
    }
   ],
   "source": [
    "12**9"
   ]
  },
  {
   "cell_type": "code",
   "execution_count": 7,
   "id": "74ecc404",
   "metadata": {},
   "outputs": [
    {
     "name": "stdout",
     "output_type": "stream",
     "text": [
      "THIS IS PYTHON DAY-1 CLASS\n"
     ]
    }
   ],
   "source": [
    "print(\"THIS IS PYTHON DAY-1 CLASS\")"
   ]
  },
  {
   "cell_type": "code",
   "execution_count": 8,
   "id": "c9dcee80",
   "metadata": {},
   "outputs": [
    {
     "name": "stdout",
     "output_type": "stream",
     "text": [
      "Today I have learnt about Number operations\n"
     ]
    }
   ],
   "source": [
    "print(\"Today I have learnt about Number operations\")"
   ]
  }
 ],
 "metadata": {
  "kernelspec": {
   "display_name": "Python 3 (ipykernel)",
   "language": "python",
   "name": "python3"
  },
  "language_info": {
   "codemirror_mode": {
    "name": "ipython",
    "version": 3
   },
   "file_extension": ".py",
   "mimetype": "text/x-python",
   "name": "python",
   "nbconvert_exporter": "python",
   "pygments_lexer": "ipython3",
   "version": "3.9.12"
  }
 },
 "nbformat": 4,
 "nbformat_minor": 5
}
